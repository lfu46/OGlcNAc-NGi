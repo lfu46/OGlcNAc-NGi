{
 "cells": [
  {
   "cell_type": "markdown",
   "metadata": {},
   "source": [
    "import packages"
   ]
  },
  {
   "cell_type": "code",
   "execution_count": 30,
   "metadata": {},
   "outputs": [],
   "source": [
    "import pandas as pd\n",
    "from localcider.sequenceParameters import SequenceParameters"
   ]
  },
  {
   "cell_type": "markdown",
   "metadata": {},
   "source": [
    "import data"
   ]
  },
  {
   "cell_type": "code",
   "execution_count": 31,
   "metadata": {},
   "outputs": [],
   "source": [
    "OG_site_31mers_regulated_combined = pd.read_excel(\n",
    "    'E:\\\\Glycosylation_Crosstalk\\\\Data_Analysis_Sequest\\\\data_source\\\\OG_site_Mer31_regulated_combined.xlsx',\n",
    "    header=0, index_col=None\n",
    ")"
   ]
  },
  {
   "cell_type": "markdown",
   "metadata": {},
   "source": [
    "get sequence parameter for 31mers"
   ]
  },
  {
   "cell_type": "code",
   "execution_count": 32,
   "metadata": {},
   "outputs": [],
   "source": [
    "OG_site_31mers_regulated_combined['Mer31_sequence_parameter']= OG_site_31mers_regulated_combined['Mer31'].astype(pd.StringDtype()).apply(SequenceParameters)"
   ]
  },
  {
   "cell_type": "markdown",
   "metadata": {},
   "source": [
    "isoelectric point"
   ]
  },
  {
   "cell_type": "code",
   "execution_count": 33,
   "metadata": {},
   "outputs": [],
   "source": [
    "OG_site_31mers_regulated_combined['Isoelectric_point'] = OG_site_31mers_regulated_combined['Mer31_sequence_parameter'].apply(lambda obj: obj.get_isoelectric_point() if obj is not None else None)"
   ]
  },
  {
   "cell_type": "markdown",
   "metadata": {},
   "source": [
    "hydrophobicity"
   ]
  },
  {
   "cell_type": "code",
   "execution_count": 34,
   "metadata": {},
   "outputs": [],
   "source": [
    "OG_site_31mers_regulated_combined['Hydrophobicity'] = OG_site_31mers_regulated_combined['Mer31_sequence_parameter'].apply(lambda obj: obj.get_mean_hydropathy() if obj is not None else None )"
   ]
  },
  {
   "cell_type": "markdown",
   "metadata": {},
   "source": [
    "FCR"
   ]
  },
  {
   "cell_type": "code",
   "execution_count": 35,
   "metadata": {},
   "outputs": [],
   "source": [
    "OG_site_31mers_regulated_combined['FCR'] = OG_site_31mers_regulated_combined['Mer31_sequence_parameter'].apply(lambda obj: obj.get_FCR() if obj is not None else None )"
   ]
  },
  {
   "cell_type": "markdown",
   "metadata": {},
   "source": [
    "NCPR"
   ]
  },
  {
   "cell_type": "code",
   "execution_count": 36,
   "metadata": {},
   "outputs": [],
   "source": [
    "OG_site_31mers_regulated_combined['NCPR'] = OG_site_31mers_regulated_combined['Mer31_sequence_parameter'].apply(lambda obj: obj.get_NCPR() if obj is not None else None )"
   ]
  },
  {
   "cell_type": "markdown",
   "metadata": {},
   "source": [
    "kappa"
   ]
  },
  {
   "cell_type": "code",
   "execution_count": 37,
   "metadata": {},
   "outputs": [],
   "source": [
    "OG_site_31mers_regulated_combined['Kappa'] = OG_site_31mers_regulated_combined['Mer31_sequence_parameter'].apply(lambda obj: obj.get_kappa() if obj is not None else None )"
   ]
  },
  {
   "cell_type": "markdown",
   "metadata": {},
   "source": [
    "export"
   ]
  },
  {
   "cell_type": "code",
   "execution_count": 38,
   "metadata": {},
   "outputs": [],
   "source": [
    "OG_site_31mers_regulated_combined.to_excel(\n",
    "    'E:\\\\Glycosylation_Crosstalk\\\\Data_Analysis_Sequest\\\\OG_site_31mers_regulated_combined_sequence_parameter.xlsx',\n",
    "    index=False\n",
    ")"
   ]
  }
 ],
 "metadata": {
  "kernelspec": {
   "display_name": "glycosylation_crosstalk_env",
   "language": "python",
   "name": "python3"
  },
  "language_info": {
   "codemirror_mode": {
    "name": "ipython",
    "version": 3
   },
   "file_extension": ".py",
   "mimetype": "text/x-python",
   "name": "python",
   "nbconvert_exporter": "python",
   "pygments_lexer": "ipython3",
   "version": "3.9.20"
  }
 },
 "nbformat": 4,
 "nbformat_minor": 2
}
